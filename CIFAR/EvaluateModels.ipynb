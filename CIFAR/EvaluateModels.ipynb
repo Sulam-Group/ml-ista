{
 "cells": [
  {
   "cell_type": "code",
   "execution_count": 1,
   "metadata": {},
   "outputs": [],
   "source": [
    "import torch\n",
    "import torch.nn as nn\n",
    "from torch.autograd import Variable\n",
    "import torch.utils.data as Data\n",
    "import torch.nn.functional as F\n",
    "import torchvision\n",
    "import torchvision.transforms as transforms\n",
    "import matplotlib.pyplot as plt\n",
    "from matplotlib import cm\n",
    "import numpy as np\n",
    "import time\n",
    "import progressbar\n",
    "plt.style.use('dark_background')\n",
    "%matplotlib inline\n",
    "\n",
    "import Models as models\n",
    "\n",
    "import importlib\n"
   ]
  },
  {
   "cell_type": "code",
   "execution_count": 2,
   "metadata": {},
   "outputs": [
    {
     "name": "stdout",
     "output_type": "stream",
     "text": [
      "==> Preparing data..\n",
      "Files already downloaded and verified\n",
      "Files already downloaded and verified\n"
     ]
    }
   ],
   "source": [
    "# Hyper Parameters\n",
    "EPOCH = 150\n",
    "BATCH_SIZE = 128\n",
    "cudaopt = True\n",
    "\n",
    "# training parameters\n",
    "LR = 0.005\n",
    "WD = 0\n",
    "MN = .9\n",
    "step_size_schd = 50\n",
    "gamma_schd = .2\n",
    "Unfoldings = 6\n",
    "\n",
    "# Data\n",
    "print('==> Preparing data..')\n",
    "transform_train = transforms.Compose([\n",
    "    transforms.RandomCrop(32, padding=4),\n",
    "    transforms.ToTensor(),\n",
    "    transforms.Normalize((0.4914, 0.4822, 0.4465), (0.2023, 0.1994, 0.2010)),\n",
    "])\n",
    "transform_test = transforms.Compose([\n",
    "    transforms.ToTensor(),\n",
    "    transforms.Normalize((0.4914, 0.4822, 0.4465), (0.2023, 0.1994, 0.2010)),\n",
    "])\n",
    "\n",
    "\n",
    "trainset = torchvision.datasets.CIFAR10(root='./data', train=True, download=True, transform=transform_train)\n",
    "testset = torchvision.datasets.CIFAR10(root='./data', train=False, download=True, transform=transform_test)\n",
    "\n",
    "train_loader = Data.DataLoader(dataset=trainset, batch_size=BATCH_SIZE, shuffle = True) #sampler=Data.sampler.SubsetRandomSampler(train_indices))\n",
    "test_loader = Data.DataLoader(dataset=testset, batch_size=BATCH_SIZE, shuffle=True)"
   ]
  },
  {
   "cell_type": "code",
   "execution_count": 3,
   "metadata": {},
   "outputs": [],
   "source": [
    "import pdb\n",
    "\n",
    "def train_model(model,train_loader,test_loader,optimizer,scheduler,EPOCH):\n",
    "\n",
    "    t0 = time.perf_counter()\n",
    "    tprev = t0\n",
    "\n",
    "    Loss_train = np.zeros((EPOCH,))\n",
    "    Loss_test = np.zeros((EPOCH,))\n",
    "    Acc_test = np.zeros((EPOCH,))\n",
    "    Acc_train = np.zeros((EPOCH,))\n",
    "    Time_test = np.zeros((EPOCH,))\n",
    "\n",
    "    bar = progressbar.ProgressBar(max_value=EPOCH-1)\n",
    "    for epoch in range(EPOCH):\n",
    "        \n",
    "        scheduler.step()\n",
    "        bar.update((epoch))\n",
    "        \n",
    "        # train 1 epoch\n",
    "        model.train()\n",
    "        correct = 0\n",
    "        train_loss = 0\n",
    "        rec_error = 0\n",
    "        for step, (x, y) in enumerate(train_loader):\n",
    "            b_x = Variable(x)   # batch x, \n",
    "            b_y = Variable(y)               # batch label\n",
    "            if cudaopt:\n",
    "                b_y, b_x = b_y.cuda(), b_x.cuda()\n",
    "            scores = model(b_x)\n",
    "            loss = F.nll_loss(scores, b_y)      # negative log likelyhood\n",
    "            optimizer.zero_grad()               # clear gradients for this training step\n",
    "            loss.backward()                     # backpropagation, compute gradients\n",
    "            optimizer.step()                    # apply gradients\n",
    "            model.zero_grad()\n",
    "            \n",
    "            # computing training accuracy\n",
    "            pred = scores.data.max(1, keepdim=True)[1]\n",
    "            correct += pred.eq(b_y.data.view_as(pred)).long().cpu().sum()\n",
    "            train_loss += F.nll_loss(scores, b_y, reduction='sum').data.item()\n",
    "            \n",
    "\n",
    "        Acc_train[epoch] =  100 * float(correct) / float(len(train_loader.dataset))\n",
    "        Loss_train[epoch] = train_loss / len(train_loader.dataset)\n",
    "\n",
    "        # testing\n",
    "        model.eval()\n",
    "        correct = 0\n",
    "        test_loss = 0\n",
    "        NNZ = 0.0\n",
    "        for step, (x, y) in enumerate(test_loader):\n",
    "            b_x = Variable(x)   \n",
    "            b_y = Variable(y)               # batch label\n",
    "            if cudaopt:\n",
    "                b_y, b_x = b_y.cuda(), b_x.cuda()\n",
    "            scores = model(b_x)\n",
    "            #pdb.set_trace()\n",
    "            test_loss += F.nll_loss(scores, b_y, reduction='sum').data.item()\n",
    "            pred = scores.data.max(1, keepdim=True)[1]\n",
    "            correct += pred.eq(b_y.data.view_as(pred)).long().cpu().sum()\n",
    "\n",
    "\n",
    "        Loss_test[epoch] = test_loss/len(test_loader.dataset)\n",
    "        Acc_test[epoch] =  100 *  float(correct) /float(len(test_loader.dataset))\n",
    "        Time_test[epoch] = time.perf_counter()-t0\n",
    "        \n",
    "        #print('Epoch: ', epoch, '| train loss: ', train_loss.data.cpu().numpy()/len(train_loader.dataset),'| train acc: ', Acc_train[epoch], '%','| test acc: ', Acc_test[epoch], '%')\n",
    "    \n",
    "    return model,Acc_train,Acc_test\n"
   ]
  },
  {
   "cell_type": "markdown",
   "metadata": {},
   "source": [
    "### Baseline CNN"
   ]
  },
  {
   "cell_type": "code",
   "execution_count": 18,
   "metadata": {},
   "outputs": [
    {
     "name": "stderr",
     "output_type": "stream",
     "text": [
      "100% (149 of 149) |######################| Elapsed Time: 0:42:57 ETA:  00:00:00"
     ]
    }
   ],
   "source": [
    "\n",
    "model_0 = models.ML_ISTA(0)\n",
    "optimizer = torch.optim.SGD(model_0.parameters(), lr = LR,momentum=MN, weight_decay=WD)\n",
    "scheduler = torch.optim.lr_scheduler.StepLR(optimizer,step_size=step_size_schd,gamma=gamma_schd)\n",
    "    \n",
    "\n",
    "model_0,Acc_train_0,Acc_test_0 = train_model(model_0.cuda(),train_loader,test_loader,optimizer,scheduler,EPOCH)"
   ]
  },
  {
   "cell_type": "markdown",
   "metadata": {},
   "source": [
    "### ML - ISTA"
   ]
  },
  {
   "cell_type": "code",
   "execution_count": 19,
   "metadata": {},
   "outputs": [
    {
     "name": "stderr",
     "output_type": "stream",
     "text": [
      "100% (149 of 149) |######################| Elapsed Time: 1:11:50 ETA:  00:00:00"
     ]
    }
   ],
   "source": [
    "    \n",
    "model_mlista = models.ML_ISTA(Unfoldings)\n",
    "optimizer = torch.optim.SGD(model_mlista.parameters(), lr = LR,momentum=MN, weight_decay=WD)\n",
    "scheduler = torch.optim.lr_scheduler.StepLR(optimizer,step_size=step_size_schd,gamma=gamma_schd)\n",
    "\n",
    "model_mlista,Acc_train_mlista,Acc_test_mlista = train_model(model_mlista.cuda(),train_loader,test_loader,optimizer,scheduler,EPOCH)\n"
   ]
  },
  {
   "cell_type": "markdown",
   "metadata": {},
   "source": [
    "### ML-FISTA"
   ]
  },
  {
   "cell_type": "code",
   "execution_count": 20,
   "metadata": {},
   "outputs": [
    {
     "name": "stderr",
     "output_type": "stream",
     "text": [
      "100% (149 of 149) |######################| Elapsed Time: 1:12:06 ETA:  00:00:00"
     ]
    }
   ],
   "source": [
    "    \n",
    "model_mlfista = models.ML_FISTA(Unfoldings)\n",
    "optimizer = torch.optim.SGD(model_mlfista.parameters(), lr = LR,momentum=MN, weight_decay=WD)\n",
    "scheduler = torch.optim.lr_scheduler.StepLR(optimizer,step_size=step_size_schd,gamma=gamma_schd)\n",
    "\n",
    "model_mlfista,Acc_train_mlfista,Acc_test_mlfista = train_model(model_mlfista.cuda(),train_loader,test_loader,optimizer,scheduler,EPOCH)\n"
   ]
  },
  {
   "cell_type": "markdown",
   "metadata": {},
   "source": [
    "### Layered BP"
   ]
  },
  {
   "cell_type": "code",
   "execution_count": 21,
   "metadata": {},
   "outputs": [
    {
     "name": "stderr",
     "output_type": "stream",
     "text": [
      "100% (149 of 149) |######################| Elapsed Time: 1:05:19 ETA:  00:00:00"
     ]
    }
   ],
   "source": [
    "    \n",
    "model_lbp = models.LBP_NET(Unfoldings)\n",
    "optimizer = torch.optim.SGD(model_lbp.parameters(), lr = LR,momentum=MN, weight_decay=WD)\n",
    "scheduler = torch.optim.lr_scheduler.StepLR(optimizer,step_size=step_size_schd,gamma=gamma_schd)\n",
    "\n",
    "model_lbp,Acc_train_lbp,Acc_test_lbp = train_model(model_lbp.cuda(),train_loader,test_loader,optimizer,scheduler,EPOCH)\n"
   ]
  },
  {
   "cell_type": "markdown",
   "metadata": {},
   "source": [
    "### ML - LISTA"
   ]
  },
  {
   "cell_type": "code",
   "execution_count": 22,
   "metadata": {},
   "outputs": [
    {
     "name": "stderr",
     "output_type": "stream",
     "text": [
      "100% (149 of 149) |######################| Elapsed Time: 1:17:34 ETA:  00:00:00"
     ]
    }
   ],
   "source": [
    "    \n",
    "model_mllista = models.ML_LISTA_NET(Unfoldings)\n",
    "optimizer = torch.optim.SGD(model_mllista.parameters(), lr = LR,momentum=MN, weight_decay=WD)\n",
    "scheduler = torch.optim.lr_scheduler.StepLR(optimizer,step_size=step_size_schd,gamma=gamma_schd)\n",
    "\n",
    "model_mllista,Acc_train_mllista,Acc_test_mllista = train_model(model_mllista.cuda(),train_loader,test_loader,optimizer,scheduler,EPOCH)\n"
   ]
  },
  {
   "cell_type": "markdown",
   "metadata": {},
   "source": [
    "### ML - LISTA 2"
   ]
  },
  {
   "cell_type": "code",
   "execution_count": 23,
   "metadata": {},
   "outputs": [
    {
     "name": "stderr",
     "output_type": "stream",
     "text": [
      "100% (149 of 149) |######################| Elapsed Time: 1:17:36 ETA:  00:00:00"
     ]
    }
   ],
   "source": [
    "importlib.reload(models)\n",
    "\n",
    "model_mllista_b = models.ML_LISTA_NET_b(Unfoldings)\n",
    "optimizer = torch.optim.SGD(model_mllista_b.parameters(), lr = LR,momentum=MN, weight_decay=WD)\n",
    "scheduler = torch.optim.lr_scheduler.StepLR(optimizer,step_size=step_size_schd,gamma=gamma_schd)\n",
    "\n",
    "model_mllista_b,Acc_train_mllista_b,Acc_test_mllista_b = train_model(model_mllista_b.cuda(),train_loader,test_loader,optimizer,scheduler,EPOCH)\n"
   ]
  },
  {
   "cell_type": "markdown",
   "metadata": {},
   "source": [
    "### All Free"
   ]
  },
  {
   "cell_type": "code",
   "execution_count": 24,
   "metadata": {},
   "outputs": [
    {
     "name": "stderr",
     "output_type": "stream",
     "text": [
      "100% (149 of 149) |######################| Elapsed Time: 1:04:19 ETA:  00:00:00"
     ]
    }
   ],
   "source": [
    "importlib.reload(models)\n",
    "    \n",
    "model_allfree = models.All_Free()\n",
    "optimizer = torch.optim.SGD(model_allfree.parameters(), lr = LR,momentum=MN, weight_decay=WD)\n",
    "scheduler = torch.optim.lr_scheduler.StepLR(optimizer,step_size=step_size_schd,gamma=gamma_schd)\n",
    "\n",
    "model_allfree,Acc_train_allfree,Acc_test_allfree = train_model(model_allfree.cuda(),train_loader,test_loader,optimizer,scheduler,EPOCH)\n"
   ]
  },
  {
   "cell_type": "markdown",
   "metadata": {},
   "source": [
    "### Results"
   ]
  },
  {
   "cell_type": "code",
   "execution_count": 26,
   "metadata": {},
   "outputs": [
    {
     "data": {
      "image/png": "[encoded data removed]",
      "text/plain": [
       "<Figure size 216x216 with 1 Axes>"
      ]
     },
     "metadata": {
      "needs_background": "light"
     },
     "output_type": "display_data"
    }
   ],
   "source": [
    "plt.figure(figsize=(3,3))\n",
    "plt.style.use('default')\n",
    "plt.plot(Acc_test_0,label= 'CNN')\n",
    "plt.plot(Acc_test_mlista,label= 'ML-ISTA')\n",
    "plt.plot(Acc_test_mlfista,label= 'ML-FISTA')\n",
    "plt.plot(Acc_test_mllista,label= 'ML-LISTA')\n",
    "plt.plot(Acc_test_lbp,label= 'LBP')\n",
    "plt.plot(Acc_test_allfree,'-.',label= 'All Free')\n",
    "#plt.plot(Acc_test_allfree_t,'-.',label= 'All Free Tight')\n",
    "plt.title('Test Accuracy - CIFAR10\n",
    "plt.grid()\n",
    "plt.xlabel('Epoch')\n",
    "plt.axis([0,EPOCH,70,85])\n",
    "plt.legend()\n",
    "plt.savefig(\"CIFAR_results.pdf\", bbox_inches='tight')"
   ]
  },
  {
   "cell_type": "code",
   "execution_count": 27,
   "metadata": {},
   "outputs": [
    {
     "name": "stdout",
     "output_type": "stream",
     "text": [
      "Baseline:  79.0011111111111 . ML-ISTA:  82.92555555555555 . ML-FISTA:  82.78999999999999 ML-LISTA:  82.68333333333334 . Layered BP:  80.73333333333332 . All Free 81.48333333333333\n"
     ]
    }
   ],
   "source": [
    "print('Baseline: ', np.mean(Acc_test_0[-10:-1]), '. ML-ISTA: ', np.mean(Acc_test_mlista[-10:-1]), '. ML-FISTA: ', np.mean(Acc_test_mlfista[-10:-1]),'ML-LISTA: ', np.mean(Acc_test_mllista[-10:-1]) ,'. Layered BP: ', np.mean(Acc_test_lbp[-10:-1]),'. All Free', np.mean(Acc_test_allfree[-10:-1]) ) "
   ]
  },
  {
   "cell_type": "code",
   "execution_count": null,
   "metadata": {},
   "outputs": [],
   "source": []
  },
  {
   "cell_type": "code",
   "execution_count": null,
   "metadata": {},
   "outputs": [],
   "source": []
  }
 ],
 "metadata": {
  "kernelspec": {
   "display_name": "Python 3",
   "language": "python",
   "name": "python3"
  },
  "language_info": {
   "codemirror_mode": {
    "name": "ipython",
    "version": 3
   },
   "file_extension": ".py",
   "mimetype": "text/x-python",
   "name": "python",
   "nbconvert_exporter": "python",
   "pygments_lexer": "ipython3",
   "version": "3.7.0"
  }
 },
 "nbformat": 4,
 "nbformat_minor": 2
}
