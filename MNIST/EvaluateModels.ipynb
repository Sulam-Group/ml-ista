{
 "cells": [
  {
   "cell_type": "code",
   "execution_count": 1,
   "metadata": {},
   "outputs": [],
   "source": [
    "import torch\n",
    "import torch.nn as nn\n",
    "from torch.autograd import Variable\n",
    "import torch.utils.data as Data\n",
    "import torch.nn.functional as F\n",
    "import torchvision\n",
    "import torchvision.transforms as transforms\n",
    "import matplotlib.pyplot as plt\n",
    "from matplotlib import cm\n",
    "import numpy as np\n",
    "import time\n",
    "import progressbar\n",
    "# torch.manual_seed(1)    # reproducible\n",
    "plt.style.use('dark_background')\n",
    "%matplotlib inline\n",
    "\n",
    "import Models as models\n",
    "import pdb # for debugging\n",
    "import importlib\n",
    "\n",
    "torch.cuda.set_device(1)"
   ]
  },
  {
   "cell_type": "code",
   "execution_count": 2,
   "metadata": {},
   "outputs": [],
   "source": [
    "# Hyper Parameters\n",
    "EPOCH = 100\n",
    "BATCH_SIZE = 128\n",
    "DOWNLOAD_MNIST = True\n",
    "cudaopt = True\n",
    "\n",
    "# Network parameteres: filters per layer. More definitions in the Models.py\n",
    "m1 = 32\n",
    "m2 = 64\n",
    "m3 = 512\n",
    "\n",
    "# Training parameters\n",
    "LR = 0.002\n",
    "WD = 1e-5\n",
    "MN = .9\n",
    "gamma_sched = .2\n",
    "step_size_sch = 30\n",
    "Unfoldings = 6\n",
    "\n",
    "# Mnist digits dataset\n",
    "train_data = torchvision.datasets.MNIST(\n",
    "    root='../data',\n",
    "    train=True,                                     # this is training data\n",
    "    transform=torchvision.transforms.ToTensor(),    # Converts a PIL.Image or numpy.ndarray to\n",
    "                                                    # torch.FloatTensor of shape (C x H x W) and normalize in the range [0.0, 1.0]\n",
    "    download=DOWNLOAD_MNIST,                        # download it if you don't have it\n",
    ")\n",
    "\n",
    "# TRAINING DATA\n",
    "Ntrain = int(60e3)\n",
    "train_set = np.random.permutation(60000)[0:Ntrain]\n",
    "train_data.train_data = train_data.train_data[torch.LongTensor(train_set),:,:]\n",
    "train_data.train_labels = train_data.train_labels[torch.LongTensor(train_set)]\n",
    "\n",
    "test_data = torchvision.datasets.MNIST(\n",
    "    root='../data',\n",
    "    train=False,                                     # this is testing data\n",
    "    transform=torchvision.transforms.ToTensor(),    # Converts a PIL.Image or numpy.ndarray to\n",
    "                                                    # torch.FloatTensor of shape (C x H x W) and normalize in the range [0.0, 1.0]\n",
    "    download=DOWNLOAD_MNIST,                        # download it if you don't have it\n",
    ")\n",
    "train_loader = Data.DataLoader(dataset=train_data, batch_size=BATCH_SIZE, shuffle=True)\n",
    "test_loader = Data.DataLoader(dataset=test_data, batch_size=BATCH_SIZE, shuffle=True)"
   ]
  },
  {
   "cell_type": "code",
   "execution_count": 3,
   "metadata": {},
   "outputs": [],
   "source": [
    "# Defining training function\n",
    "\n",
    "def train_model(model,train_loader,test_loader,optimizer,scheduler,EPOCH):\n",
    "\n",
    "    t0 = time.perf_counter()\n",
    "    tprev = t0\n",
    "\n",
    "    Loss_train = np.zeros((EPOCH,))\n",
    "    Loss_test = np.zeros((EPOCH,))\n",
    "    Acc_test = np.zeros((EPOCH,))\n",
    "    Acc_train = np.zeros((EPOCH,))\n",
    "    Time_test = np.zeros((EPOCH,))\n",
    "\n",
    "    bar = progressbar.ProgressBar(max_value=EPOCH-1)\n",
    "    for epoch in range(EPOCH):\n",
    "        \n",
    "        scheduler.step()        \n",
    "        bar.update(epoch)\n",
    "        model.train()\n",
    "        \n",
    "        correct = 0\n",
    "        train_loss = 0\n",
    "        rec_error = 0\n",
    "        for step, (x, y) in enumerate(train_loader):\n",
    "            b_x = Variable(x)    \n",
    "            b_y = Variable(y)               \n",
    "            if cudaopt:\n",
    "                b_y, b_x = b_y.cuda(), b_x.cuda()\n",
    "            scores = model(b_x)\n",
    "            loss = F.nll_loss(scores, b_y)      # negative log likelyhood\n",
    "            optimizer.zero_grad()               # clear gradients for this training step\n",
    "            loss.backward()                     # backpropagation, compute gradients\n",
    "            optimizer.step()                    # apply gradients\n",
    "            model.zero_grad()\n",
    "            \n",
    "            # computing training stats\n",
    "            pred = scores.data.max(1, keepdim=True)[1]\n",
    "            correct += pred.eq(b_y.data.view_as(pred)).long().cpu().sum()\n",
    "            train_loss += F.nll_loss(scores, b_y, reduction='sum').data.item()\n",
    "            \n",
    "\n",
    "        Acc_train[epoch] =  100 * float(correct) / float(len(train_loader.dataset))\n",
    "        Loss_train[epoch] = train_loss / len(train_loader.dataset)\n",
    "\n",
    "        # testing\n",
    "        model.eval()\n",
    "        correct = 0\n",
    "        test_loss = 0\n",
    "        NNZ = 0.0\n",
    "        for step, (x, y) in enumerate(test_loader):\n",
    "            b_x = Variable(x)   \n",
    "            b_y = Variable(y)               # batch label\n",
    "            if cudaopt:\n",
    "                b_y, b_x = b_y.cuda(), b_x.cuda()\n",
    "            scores = model(b_x)\n",
    "            test_loss += F.nll_loss(scores, b_y, reduction='sum').data.item()\n",
    "            pred = scores.data.max(1, keepdim=True)[1]\n",
    "            correct += pred.eq(b_y.data.view_as(pred)).long().cpu().sum()\n",
    "\n",
    "\n",
    "        Loss_test[epoch] = test_loss/len(test_loader.dataset)\n",
    "        Acc_test[epoch] =  100 *  float(correct) /float(len(test_loader.dataset))\n",
    "        Time_test[epoch] = time.perf_counter()-t0\n",
    "        \n",
    "        #print('Epoch: ', epoch, '| train loss: ', train_loss.data.cpu().numpy()/len(train_loader.dataset),'| train acc: ', Acc_train[epoch], '%','| test acc: ', Acc_test[epoch], '%')\n",
    "    \n",
    "    return model,Acc_train,Acc_test\n"
   ]
  },
  {
   "cell_type": "markdown",
   "metadata": {},
   "source": [
    "Training CNN (ML-ISTA with 0 unfolding)"
   ]
  },
  {
   "cell_type": "code",
   "execution_count": 4,
   "metadata": {},
   "outputs": [
    {
     "name": "stderr",
     "output_type": "stream",
     "text": [
      "100% (99 of 99) |########################| Elapsed Time: 0:09:46 ETA:  00:00:00"
     ]
    }
   ],
   "source": [
    "\n",
    "model_0 = models.ML_ISTA_NET(m1,m2,m3,0)\n",
    "optimizer = torch.optim.SGD(model_0.parameters(), lr = LR,momentum=MN, weight_decay=WD)\n",
    "scheduler = torch.optim.lr_scheduler.StepLR(optimizer,step_size=step_size_sch,gamma=gamma_sched)\n",
    "\n",
    "model_0,Acc_train_0,Acc_test_0 = train_model(model_0.cuda(),train_loader,test_loader,optimizer,scheduler,EPOCH)"
   ]
  },
  {
   "cell_type": "markdown",
   "metadata": {},
   "source": [
    "Training ML-ISTA"
   ]
  },
  {
   "cell_type": "code",
   "execution_count": 5,
   "metadata": {},
   "outputs": [
    {
     "name": "stderr",
     "output_type": "stream",
     "text": [
      "100% (99 of 99) |########################| Elapsed Time: 0:58:57 ETA:  00:00:00"
     ]
    }
   ],
   "source": [
    "\n",
    "model_mlista = models.ML_ISTA_NET(m1,m2,m3,Unfoldings)\n",
    "optimizer = torch.optim.SGD(model_mlista.parameters(), lr = LR,momentum=MN, weight_decay=WD)\n",
    "scheduler = torch.optim.lr_scheduler.StepLR(optimizer,step_size=step_size_sch,gamma=gamma_sched)\n",
    "\n",
    "model_mlista,Acc_train_mlista,Acc_test_mlista = train_model(model_mlista.cuda(),train_loader,test_loader,optimizer,scheduler,EPOCH)"
   ]
  },
  {
   "cell_type": "markdown",
   "metadata": {},
   "source": [
    "Training ML-FISTA"
   ]
  },
  {
   "cell_type": "code",
   "execution_count": 6,
   "metadata": {},
   "outputs": [
    {
     "name": "stderr",
     "output_type": "stream",
     "text": [
      "100% (99 of 99) |########################| Elapsed Time: 0:58:59 ETA:  00:00:00"
     ]
    }
   ],
   "source": [
    "    \n",
    "model_mlfista = models.ML_FISTA_NET(m1,m2,m3,Unfoldings)\n",
    "optimizer = torch.optim.SGD(model_mlfista.parameters(), lr = LR,momentum=MN, weight_decay=WD)\n",
    "scheduler = torch.optim.lr_scheduler.StepLR(optimizer,step_size=step_size_sch,gamma=gamma_sched)\n",
    "\n",
    "model_mlfista,Acc_train_mlfista,Acc_test_mlfista = train_model(model_mlfista.cuda(),train_loader,test_loader,optimizer,scheduler,EPOCH)"
   ]
  },
  {
   "cell_type": "markdown",
   "metadata": {},
   "source": [
    "Training Layered Basis Pursuit"
   ]
  },
  {
   "cell_type": "code",
   "execution_count": 7,
   "metadata": {},
   "outputs": [
    {
     "name": "stderr",
     "output_type": "stream",
     "text": [
      "100% (99 of 99) |########################| Elapsed Time: 0:43:04 ETA:  00:00:00"
     ]
    }
   ],
   "source": [
    "    \n",
    "model_lbp = models.LBP_NET(m1,m2,m3,Unfoldings)\n",
    "optimizer = torch.optim.SGD(model_lbp.parameters(), lr = LR,momentum=MN, weight_decay=WD)\n",
    "scheduler = torch.optim.lr_scheduler.StepLR(optimizer,step_size=step_size_sch,gamma=gamma_sched)\n",
    "\n",
    "model_lbp,Acc_train_lbp,Acc_test_lbp = train_model(model_lbp.cuda(),train_loader,test_loader,optimizer,scheduler,EPOCH)\n"
   ]
  },
  {
   "cell_type": "markdown",
   "metadata": {},
   "source": [
    "Training ML-Learned ISTA"
   ]
  },
  {
   "cell_type": "code",
   "execution_count": 8,
   "metadata": {},
   "outputs": [
    {
     "name": "stderr",
     "output_type": "stream",
     "text": [
      "100% (99 of 99) |########################| Elapsed Time: 1:12:44 ETA:  00:00:00"
     ]
    }
   ],
   "source": [
    "    \n",
    "model_mllista = models.ML_LISTA_NET(m1,m2,m3,Unfoldings)\n",
    "optimizer = torch.optim.SGD(model_mllista.parameters(), lr = LR,momentum=MN, weight_decay=WD)\n",
    "scheduler = torch.optim.lr_scheduler.StepLR(optimizer,step_size=step_size_sch,gamma=gamma_sched)\n",
    "\n",
    "model_mllista,Acc_train_mllista,Acc_test_mllista = train_model(model_mllista.cuda(),train_loader,test_loader,optimizer,scheduler,EPOCH)\n"
   ]
  },
  {
   "cell_type": "markdown",
   "metadata": {},
   "source": [
    "Training *all free* net: similar architecture but with all parameters free to be learned"
   ]
  },
  {
   "cell_type": "code",
   "execution_count": 9,
   "metadata": {},
   "outputs": [
    {
     "name": "stderr",
     "output_type": "stream",
     "text": [
      "100% (99 of 99) |########################| Elapsed Time: 0:43:19 ETA:  00:00:00"
     ]
    }
   ],
   "source": [
    "\n",
    "model_allfree = models.All_Free(m1,m2,m3) # the all_free model has been coded for 6 unfoldings.\n",
    "optimizer = torch.optim.SGD(model_allfree.parameters(), lr = LR,momentum=MN, weight_decay=WD)\n",
    "scheduler = torch.optim.lr_scheduler.StepLR(optimizer,step_size=step_size_sch,gamma=gamma_sched)\n",
    "\n",
    "model_allfree,Acc_train_allfree,Acc_test_allfree = train_model(model_allfree.cuda(),train_loader,test_loader,optimizer,scheduler,EPOCH)\n"
   ]
  },
  {
   "cell_type": "markdown",
   "metadata": {},
   "source": [
    "### Results"
   ]
  },
  {
   "cell_type": "code",
   "execution_count": 11,
   "metadata": {},
   "outputs": [
    {
     "name": "stdout",
     "output_type": "stream",
     "text": [
      "Baseline:  98.74 . ML-ISTA:  99.10947368421051 . ML-FISTA:  99.16105263157895 ML-LISTA:  98.80999999999999 . Layered BP:  99.19000000000001 . All Free 98.89000000000001\n"
     ]
    },
    {
     "data": {
      "image/png": "[encoded data removed]",
      "text/plain": [
       "<Figure size 300x300 with 1 Axes>"
      ]
     },
     "metadata": {},
     "output_type": "display_data"
    }
   ],
   "source": [
    "plt.figure(figsize=(3,3))\n",
    "plt.style.use('default')\n",
    "plt.plot(Acc_test_0,label= 'CNN')\n",
    "plt.plot(Acc_test_mlista,label= 'ML-ISTA')\n",
    "plt.plot(Acc_test_mlfista,label= 'ML-FISTA')\n",
    "plt.plot(Acc_test_mllista,label= 'ML-LISTA')\n",
    "plt.plot(Acc_test_lbp,label= 'LBP')\n",
    "plt.plot(Acc_test_allfree,'.-',label= 'All Free')\n",
    "\n",
    "plt.title('Test Accuracy - MNIST')\n",
    "plt.grid()\n",
    "plt.axis([0,EPOCH,97,99.5])\n",
    "plt.xlabel('Epoch')\n",
    "plt.legend()\n",
    "plt.savefig(\"MNIST_results.pdf\", bbox_inches='tight')\n",
    "\n",
    "print('Baseline: ', np.mean(Acc_test_0[-20:-1]), '. ML-ISTA: ', np.mean(Acc_test_mlista[-20:-1]), '. ML-FISTA: ', np.mean(Acc_test_mlfista[-20:-1]),'ML-LISTA: ', np.mean(Acc_test_mllista[-20:-1]) ,'. Layered BP: ', np.mean(Acc_test_lbp[-20:-1]),'. All Free', np.mean(Acc_test_allfree[-20:-1]) ) "
   ]
  },
  {
   "cell_type": "code",
   "execution_count": null,
   "metadata": {},
   "outputs": [],
   "source": []
  },
  {
   "cell_type": "code",
   "execution_count": null,
   "metadata": {},
   "outputs": [],
   "source": []
  }
 ],
 "metadata": {
  "kernelspec": {
   "display_name": "Python 3",
   "language": "python",
   "name": "python3"
  },
  "language_info": {
   "codemirror_mode": {
    "name": "ipython",
    "version": 3
   },
   "file_extension": ".py",
   "mimetype": "text/x-python",
   "name": "python",
   "nbconvert_exporter": "python",
   "pygments_lexer": "ipython3",
   "version": "3.6.3"
  }
 },
 "nbformat": 4,
 "nbformat_minor": 2
}
